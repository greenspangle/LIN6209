{
 "cells": [
  {
   "cell_type": "markdown",
   "metadata": {},
   "source": [
    "# Pocket Dict Mini Translator: English to French Pocket Dictionary/Mini Translator \n",
    "\n",
    "## Brief Description\n",
    "The aim of this application is to provide users with quick translations of small phrases and expressions. The core functionality of the application will allow users to input text and receive possible translations for that expression should they exist in the data. Some extra features that may extend the functionality of the app are filtering results by word category, tense (for verbs) or gender (for nouns)."
   ]
  },
  {
   "cell_type": "markdown",
   "metadata": {},
   "source": [
    "## Datasets and Tools\n",
    "The core implementation will rely on using datasets with English text and their respective French translations. \n",
    "\n",
    "Tools such as [kaggle.com](kaggle.com) and [datasetsearch.research.google](datasetsearch.research.google.com) will be useful in gathering relevant and sufficient amounts of data. \n",
    "\n",
    "Data files on Kaggle are usually in CSV form hence using Python libraries such as `pandas` will help read and organise the data. Furthermore, VSCode provides an extension to visualise CSV files as a normal table in comparison with other IDEs which display CSV files as plaintext. Hence, I will be able to inspect the data manually to see if there are things I need to take into account. \n",
    "\n",
    "I may also use a another dataset (in the form of a `.txt` file), which I will attempt to merge with the other data creating one single dataset. Although this may cause problems with duplicate values.\n",
    "\n",
    "I also aim to make a User interface for the application, most likely using the `Tkinter` library which would make the User experience better as supposed to a command line application.\n"
   ]
  },
  {
   "cell_type": "markdown",
   "metadata": {},
   "source": [
    "## General Implementation Outline\n",
    "### The Application will need to do the following:"
   ]
  },
  {
   "cell_type": "markdown",
   "metadata": {},
   "source": [
    "* Read a Datasets"
   ]
  },
  {
   "cell_type": "code",
   "execution_count": 8,
   "metadata": {},
   "outputs": [],
   "source": [
    "import pandas as pd\n",
    "import numpy as np\n",
    "\n",
    "data = pd.read_csv(\"./eng_-french.csv\")\n",
    "data = data.rename(columns={'English words/sentences': 'EN',\n",
    "                            'French words/sentences': 'FRE'})"
   ]
  },
  {
   "cell_type": "markdown",
   "metadata": {},
   "source": [
    "* Parse it into 2 separate list, one with English text and the other with French text."
   ]
  },
  {
   "cell_type": "code",
   "execution_count": 9,
   "metadata": {},
   "outputs": [],
   "source": [
    "en = data.EN\n",
    "fr = data.FRE"
   ]
  },
  {
   "cell_type": "markdown",
   "metadata": {},
   "source": [
    "* Implement a basic search algorithm to find possible matches in the English list. \n",
    "* Store the index of a possible match in a list to be referenced later as English and French lists will be the same length, the index for an item in the English text list will correspond with the time in the French text list."
   ]
  },
  {
   "cell_type": "code",
   "execution_count": 10,
   "metadata": {},
   "outputs": [],
   "source": [
    "### A posible approach ###\n",
    "\n",
    "# Simple linear search - not efficient given worse case is O(n)\n",
    "# Time complexity: O(n)\n",
    "# Space complexity: O(1)\n",
    "def find_matches(search):\n",
    "    results = [] # index of matching searches \n",
    "    # Search algorithm\n",
    "    search = search # clean `search` string\n",
    "    \n",
    "    # Use for loops instead of list comprehension to make the code more readable\n",
    "    # each string needs to be cleaned hence for loops would be better (unless I decide to clean teh data in place rather than element by element)\n",
    "    for i in len(en):\n",
    "        em_text = en[i] # clean `en_text` string\n",
    "        if search in em_text:\n",
    "            results.append(i)\n",
    "    \n",
    "    return results"
   ]
  },
  {
   "cell_type": "markdown",
   "metadata": {},
   "source": [
    "* If possible, filter the results by word category, tense or gender if the user requires them to be. "
   ]
  },
  {
   "cell_type": "code",
   "execution_count": 11,
   "metadata": {},
   "outputs": [],
   "source": [
    "# test with hard coded string before changing to user input\n",
    "indices = find_matches(\"hello\")\n",
    "\n",
    "for index in indices:\n",
    "    french_text = fr[index]  # clean `french_text`\n",
    "    \n",
    "    # add filtering for french text here: Nouns, verbs, word category\n",
    "    # and/or\n",
    "    # display results on screen "
   ]
  },
  {
   "cell_type": "markdown",
   "metadata": {},
   "source": [
    "### Testing\n",
    "I aim to test the core functionality of the application by using assertions and the `pytest` library. Additionally, inspecting a subset of data manually to predict expected behaviour will also be useful. "
   ]
  },
  {
   "cell_type": "code",
   "execution_count": null,
   "metadata": {},
   "outputs": [],
   "source": [
    "import pytest\n",
    "\n",
    "def test_find_matches(): \n",
    "    assert find_matches(\"hello\") == # expected list of indices"
   ]
  },
  {
   "cell_type": "markdown",
   "metadata": {},
   "source": [
    "One problem that I may encounter is testing the UI (should I have time to implement the UI). \n",
    "A possible UI test may look like the following. However, considering I have not used `Tkinter` I am not sure if things like accessing a labels text through a property will work."
   ]
  },
  {
   "cell_type": "code",
   "execution_count": null,
   "metadata": {},
   "outputs": [],
   "source": [
    "def test_display():\n",
    "    label = # get data from on screen label\n",
    "    assert label == \"Expected Output\""
   ]
  }
 ],
 "metadata": {
  "interpreter": {
   "hash": "4ab238c99601c0d9ef501b4369a75878bbe447410c0a44dbaa1d54ec640ee5e1"
  },
  "kernelspec": {
   "display_name": "Python 3",
   "language": "python",
   "name": "python3"
  },
  "language_info": {
   "codemirror_mode": {
    "name": "ipython",
    "version": 3
   },
   "file_extension": ".py",
   "mimetype": "text/x-python",
   "name": "python",
   "nbconvert_exporter": "python",
   "pygments_lexer": "ipython3",
   "version": "3.8.8"
  }
 },
 "nbformat": 4,
 "nbformat_minor": 2
}
