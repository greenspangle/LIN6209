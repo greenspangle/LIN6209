{
 "cells": [
  {
   "cell_type": "markdown",
   "id": "b1eeb090",
   "metadata": {},
   "source": [
    "## score_2(dice_1, dice_2)\n",
    "\n",
    "The parameters are guaranteed to be integers between 1 and 6 inclusive and represent the face values on the\n",
    "throw of two six-sided dice. Calculate the score according to this rule:\n",
    "\n",
    "* The score is the sum of both dice\n",
    "* unless it is a 'double' (both dice the same) in which case add one of the dice to the score again\n",
    "* unless it is 'double six' (both dice six) in which case add both dice to the score again\n",
    "* unless the sum of the two dice is seven in which case double it\n",
    "\n",
    "For example:\n",
    "\n",
    "parameter values | return value\n",
    ":---------:|:-------:|\n",
    "`1, 5` | `6`\n",
    "`5, 1` | `6`\n",
    "`3, 4` | `14`\n",
    "`5, 2` | `14`\n",
    "`2, 2` | `6`\n",
    "`6, 6` | `24`\n",
    "\n",
    "**Hints:**\\\n",
    "A few `if` statements with possibly some `elif` and `else`, should get the job done."
   ]
  },
  {
   "cell_type": "code",
   "execution_count": 2,
   "id": "5df61197",
   "metadata": {},
   "outputs": [],
   "source": [
    "def score_2(dice_1, dice_2):\n",
    "    \"\"\"The parameters are guaranteed to be integers between 1 and 6 inclusive and represent the face values on the\n",
    "    throw of two six-sided dice. Calculate the score according to this rule:\n",
    "        1 The score is the sum of both dice\n",
    "        2 unless it is a 'double' (both dice the same) in which case add one of the dice to the score again\n",
    "        3 unless it is 'double six' (both dice six) in which case add both dice to the score again\n",
    "        4 unless the sum of the two dice is seven in which case double it\"\"\"\n",
    "    # a sequence of if statements covers all possibilities\n",
    "    score = dice_1 + dice_2  # rule 1\n",
    "    if score == 7:  # rule 4 = sum is seven\n",
    "        score = 14\n",
    "    if dice_1 == dice_2:  # rule 2 = it's a double\n",
    "        score = dice_1 + dice_2 + dice_1\n",
    "    if dice_1 == 6 and dice_2 == 6:  # rule 3 = double six!\n",
    "        score = dice_1 + dice_2 + dice_1 + dice_2\n",
    "    # all options considered, return the score\n",
    "    return score"
   ]
  },
  {
   "cell_type": "code",
   "execution_count": 5,
   "id": "ae0d1eac",
   "metadata": {},
   "outputs": [
    {
     "data": {
      "text/plain": [
       "24"
      ]
     },
     "execution_count": 5,
     "metadata": {},
     "output_type": "execute_result"
    }
   ],
   "source": [
    "score_2(6,6)"
   ]
  },
  {
   "cell_type": "code",
   "execution_count": null,
   "id": "973b632e",
   "metadata": {},
   "outputs": [],
   "source": []
  }
 ],
 "metadata": {
  "kernelspec": {
   "display_name": "Python 3",
   "language": "python",
   "name": "python3"
  },
  "language_info": {
   "codemirror_mode": {
    "name": "ipython",
    "version": 3
   },
   "file_extension": ".py",
   "mimetype": "text/x-python",
   "name": "python",
   "nbconvert_exporter": "python",
   "pygments_lexer": "ipython3",
   "version": "3.8.8"
  }
 },
 "nbformat": 4,
 "nbformat_minor": 5
}
